{
 "cells": [
  {
   "cell_type": "code",
   "execution_count": 1,
   "metadata": {},
   "outputs": [],
   "source": [
    "import os\n",
    "import argparse\n",
    "from tqdm import tqdm\n",
    "import numpy as np\n",
    "\n",
    "import torch\n",
    "import torch.nn as nn\n",
    "from torch.utils.data import DataLoader\n",
    "from torch.utils.tensorboard import SummaryWriter\n",
    "\n",
    "from data_loader.cityscapes import CityscapesDataset\n",
    "import utils.transforms\n",
    "from model.deeplabv3plus import DeepLabv3Plus\n",
    "\n",
    "from model.metrics import iou"
   ]
  },
  {
   "cell_type": "code",
   "execution_count": 2,
   "metadata": {},
   "outputs": [],
   "source": [
    "writer = SummaryWriter()\n",
    "checkpoint_file = os.path.join(\"./checkpoints\", \"best_model.pt\")\n",
    "img_root = \"./data/leftImg8bit\"\n",
    "mask_root = \"./data/gtFine\"\n",
    "transform = utils.transforms.Compose(\n",
    "    [utils.transforms.Resize((512, 512)), utils.transforms.ToTensor()]\n",
    ")\n",
    "\n",
    "train_set = CityscapesDataset(\"train\", img_root, mask_root, transform=transform)\n",
    "val_set = CityscapesDataset(\"val\", img_root, mask_root, transform=transform)\n",
    "\n",
    "batch_size = 4\n",
    "train_loader = DataLoader(dataset=train_set, batch_size=batch_size, shuffle=True)\n",
    "val_loader = DataLoader(dataset=val_set, batch_size=batch_size, shuffle=False)"
   ]
  },
  {
   "cell_type": "code",
   "execution_count": 3,
   "metadata": {},
   "outputs": [],
   "source": [
    "device = torch.device(\"cuda\" if torch.cuda.is_available() else \"cpu\")\n",
    "num_classes = 20  # 0 -> 19\n",
    "ignore_idx = train_set.ignoreId  # ignore 19\n",
    "learning_rate = 0.001\n",
    "model = DeepLabv3Plus(num_classes).to(device)\n",
    "criterion = nn.CrossEntropyLoss(ignore_index=ignore_idx)\n",
    "optimizer = torch.optim.Adam(model.parameters(), lr=learning_rate)"
   ]
  },
  {
   "cell_type": "code",
   "execution_count": 4,
   "metadata": {},
   "outputs": [],
   "source": [
    "def save_checkpoint(epoch, model, optimizer, path):\n",
    "    torch.save(\n",
    "        {\n",
    "            \"epoch\": epoch,\n",
    "            \"model_state_dict\": model.state_dict(),\n",
    "            \"optimizer_state_dict\": optimizer.state_dict(),\n",
    "        },\n",
    "        path,\n",
    "    )\n",
    "\n",
    "\n",
    "def train_one_epoch(epoch, model, criterion, optimizer, data_loader, device):\n",
    "    model.train()\n",
    "\n",
    "    total_loss = 0\n",
    "    n_batches = len(data_loader)\n",
    "    for i, sample in enumerate(tqdm(data_loader)):\n",
    "        images = sample[\"image\"].to(device)\n",
    "        masks = sample[\"mask\"].to(device)\n",
    "\n",
    "        optimizer.zero_grad()\n",
    "        pred = model(images)\n",
    "        loss = criterion(pred, masks)\n",
    "        loss.backward()\n",
    "        optimizer.step()\n",
    "\n",
    "        total_loss += loss.item()\n",
    "        writer.add_scalar(\"train_iter_loss\", loss.item(), i + n_batches * epoch)\n",
    "\n",
    "    avg_loss = total_loss / n_batches\n",
    "    writer.add_scalar(\"train_epoch_avg_loss\", avg_loss, epoch)\n",
    "    return avg_loss\n",
    "\n",
    "\n",
    "def evaluate(epoch, model, criterion, data_loader, num_classes, device):\n",
    "    model.eval()\n",
    "\n",
    "    total_loss = 0\n",
    "    n_batches = len(data_loader)\n",
    "    n_samples = len(data_loader.dataset)\n",
    "    preds = torch.zeros((n_samples, 512, 512))\n",
    "    gts = torch.zeros((n_samples, 512, 512))\n",
    "\n",
    "    with torch.no_grad():\n",
    "        for i, sample in enumerate(tqdm(data_loader)):\n",
    "            images = sample[\"image\"].to(device)\n",
    "            masks = sample[\"mask\"].to(device)\n",
    "\n",
    "            pred = model(images)\n",
    "            loss = criterion(pred, masks)\n",
    "            total_loss += loss.item()\n",
    "\n",
    "            b_size = len(masks)\n",
    "            gts[i : i + b_size, :, :] = masks.cpu().detach()\n",
    "            preds[i : i + b_size, :, :] = torch.argmax(pred, dim=1).cpu().detach()\n",
    "\n",
    "    model.train()\n",
    "    avg_loss = total_loss / n_batches\n",
    "    ious, mIoU = iou(preds, gts)\n",
    "    writer.add_scalar(\"val_epoch_avg_loss\", avg_loss, epoch)\n",
    "    writer.add_scalar(\"val_epoch_mIoU\", mIoU, epoch)\n",
    "    return avg_loss, ious, mIoU"
   ]
  },
  {
   "cell_type": "code",
   "execution_count": 5,
   "metadata": {},
   "outputs": [],
   "source": [
    "# %load_ext tensorboard\n",
    "# %tensorboard --logdir=runs --host=0.0.0.0 --port=6006"
   ]
  },
  {
   "cell_type": "code",
   "execution_count": 6,
   "metadata": {},
   "outputs": [
    {
     "name": "stderr",
     "output_type": "stream",
     "text": [
      "100%|██████████| 744/744 [08:10<00:00,  1.52it/s]\n",
      "100%|██████████| 125/125 [00:47<00:00,  2.64it/s]\n",
      "100%|██████████| 744/744 [08:08<00:00,  1.52it/s]\n",
      "100%|██████████| 125/125 [00:47<00:00,  2.63it/s]\n",
      "100%|██████████| 744/744 [08:08<00:00,  1.52it/s]\n",
      "100%|██████████| 125/125 [00:46<00:00,  2.66it/s]\n",
      "100%|██████████| 744/744 [08:08<00:00,  1.52it/s]\n",
      "100%|██████████| 125/125 [00:47<00:00,  2.61it/s]\n",
      "100%|██████████| 744/744 [08:11<00:00,  1.51it/s]\n",
      "100%|██████████| 125/125 [00:47<00:00,  2.63it/s]\n",
      "100%|██████████| 744/744 [08:08<00:00,  1.52it/s]\n",
      "100%|██████████| 125/125 [00:47<00:00,  2.63it/s]\n",
      "100%|██████████| 744/744 [08:08<00:00,  1.52it/s]\n",
      "100%|██████████| 125/125 [00:47<00:00,  2.66it/s]\n",
      "100%|██████████| 744/744 [08:07<00:00,  1.53it/s]\n",
      "100%|██████████| 125/125 [00:47<00:00,  2.64it/s]\n",
      "100%|██████████| 744/744 [08:07<00:00,  1.53it/s]\n",
      "100%|██████████| 125/125 [00:47<00:00,  2.64it/s]\n",
      "100%|██████████| 744/744 [08:08<00:00,  1.52it/s]\n",
      "100%|██████████| 125/125 [00:46<00:00,  2.66it/s]\n",
      "100%|██████████| 744/744 [08:07<00:00,  1.53it/s]\n",
      "100%|██████████| 125/125 [00:47<00:00,  2.64it/s]\n",
      "100%|██████████| 744/744 [08:07<00:00,  1.53it/s]\n",
      "100%|██████████| 125/125 [00:47<00:00,  2.64it/s]\n",
      "100%|██████████| 744/744 [08:07<00:00,  1.53it/s]\n",
      "100%|██████████| 125/125 [00:47<00:00,  2.63it/s]\n",
      "100%|██████████| 744/744 [08:07<00:00,  1.53it/s]\n",
      "100%|██████████| 125/125 [00:47<00:00,  2.64it/s]\n",
      "100%|██████████| 744/744 [08:08<00:00,  1.52it/s]\n",
      "100%|██████████| 125/125 [00:47<00:00,  2.65it/s]\n",
      "100%|██████████| 744/744 [08:09<00:00,  1.52it/s]\n",
      "100%|██████████| 125/125 [00:47<00:00,  2.63it/s]\n",
      "100%|██████████| 744/744 [08:10<00:00,  1.52it/s]\n",
      "100%|██████████| 125/125 [00:47<00:00,  2.63it/s]\n",
      "100%|██████████| 744/744 [08:08<00:00,  1.52it/s]\n",
      "100%|██████████| 125/125 [00:47<00:00,  2.65it/s]\n",
      "100%|██████████| 744/744 [08:08<00:00,  1.52it/s]\n",
      "100%|██████████| 125/125 [00:47<00:00,  2.62it/s]\n",
      "100%|██████████| 744/744 [08:07<00:00,  1.52it/s]\n",
      "100%|██████████| 125/125 [00:47<00:00,  2.64it/s]\n",
      "100%|██████████| 744/744 [08:07<00:00,  1.53it/s]\n",
      "100%|██████████| 125/125 [00:47<00:00,  2.64it/s]\n",
      "100%|██████████| 744/744 [08:07<00:00,  1.53it/s]\n",
      "100%|██████████| 125/125 [00:47<00:00,  2.64it/s]\n",
      "100%|██████████| 744/744 [08:07<00:00,  1.53it/s]\n",
      "100%|██████████| 125/125 [00:47<00:00,  2.64it/s]\n",
      "100%|██████████| 744/744 [08:09<00:00,  1.52it/s]\n",
      "100%|██████████| 125/125 [00:47<00:00,  2.63it/s]\n",
      "100%|██████████| 744/744 [08:08<00:00,  1.52it/s]\n",
      "100%|██████████| 125/125 [00:47<00:00,  2.64it/s]\n",
      "100%|██████████| 744/744 [08:08<00:00,  1.52it/s]\n",
      "100%|██████████| 125/125 [00:47<00:00,  2.62it/s]\n",
      "100%|██████████| 744/744 [08:07<00:00,  1.53it/s]\n",
      "100%|██████████| 125/125 [00:47<00:00,  2.64it/s]\n",
      "100%|██████████| 744/744 [08:07<00:00,  1.53it/s]\n",
      "100%|██████████| 125/125 [00:47<00:00,  2.63it/s]\n",
      "100%|██████████| 744/744 [08:06<00:00,  1.53it/s]\n",
      "100%|██████████| 125/125 [00:47<00:00,  2.64it/s]\n",
      "100%|██████████| 744/744 [08:06<00:00,  1.53it/s]\n",
      "100%|██████████| 125/125 [00:47<00:00,  2.65it/s]\n",
      "100%|██████████| 744/744 [08:06<00:00,  1.53it/s]\n",
      "100%|██████████| 125/125 [00:46<00:00,  2.66it/s]\n",
      "100%|██████████| 744/744 [08:06<00:00,  1.53it/s]\n",
      "100%|██████████| 125/125 [00:47<00:00,  2.64it/s]\n",
      "100%|██████████| 744/744 [08:07<00:00,  1.53it/s]\n",
      "100%|██████████| 125/125 [00:47<00:00,  2.63it/s]"
     ]
    },
    {
     "name": "stdout",
     "output_type": "stream",
     "text": [
      "Early Stopping at epoch 32\n"
     ]
    },
    {
     "name": "stderr",
     "output_type": "stream",
     "text": [
      "\n"
     ]
    }
   ],
   "source": [
    "patience = 8\n",
    "best_loss = np.inf\n",
    "best_mIoU = 0\n",
    "best_epoch = 0\n",
    "for epoch in range(1000):\n",
    "    train_loss = train_one_epoch(\n",
    "        epoch, model, criterion, optimizer, train_loader, device\n",
    "    )\n",
    "    val_loss, ious, mIoU = evaluate(\n",
    "        epoch, model, criterion, val_loader, num_classes, device\n",
    "    )\n",
    "    print(f\"Epoch {epoch}: val_loss {val_loss:.4f} | mIoU {mIoU: .4f}\")\n",
    "    if mIoU < best_mIoU:\n",
    "        best_mIoU = mIoU\n",
    "        best_epoch = epoch\n",
    "        save_checkpoint(epoch, model, optimizer, checkpoint_file)\n",
    "    elif epoch - best_epoch >= patience:\n",
    "        print(f\"Early Stopping at epoch {epoch}\")\n",
    "        break"
   ]
  },
  {
   "cell_type": "code",
   "execution_count": 7,
   "metadata": {},
   "outputs": [],
   "source": [
    "writer.close()"
   ]
  },
  {
   "cell_type": "code",
   "execution_count": 8,
   "metadata": {},
   "outputs": [],
   "source": [
    "# !kill tensorboard_pid"
   ]
  }
 ],
 "metadata": {
  "kernelspec": {
   "display_name": "Python 3",
   "language": "python",
   "name": "python3"
  },
  "language_info": {
   "codemirror_mode": {
    "name": "ipython",
    "version": 3
   },
   "file_extension": ".py",
   "mimetype": "text/x-python",
   "name": "python",
   "nbconvert_exporter": "python",
   "pygments_lexer": "ipython3",
   "version": "3.8.6"
  }
 },
 "nbformat": 4,
 "nbformat_minor": 4
}
