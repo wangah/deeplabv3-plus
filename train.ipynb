{
 "cells": [
  {
   "cell_type": "code",
   "execution_count": 1,
   "metadata": {},
   "outputs": [],
   "source": [
    "import os\n",
    "import argparse\n",
    "from tqdm import tqdm\n",
    "import numpy as np\n",
    "\n",
    "import torch\n",
    "import torch.nn as nn\n",
    "from torch.utils.data import DataLoader\n",
    "from torch.utils.tensorboard import SummaryWriter\n",
    "\n",
    "from data_loader.cityscapes import CityscapesDataset\n",
    "import utils.transforms\n",
    "from model.deeplabv3plus import DeepLabv3Plus\n",
    "\n",
    "from model.metric import SegmentationMetrics"
   ]
  },
  {
   "cell_type": "code",
   "execution_count": 2,
   "metadata": {},
   "outputs": [],
   "source": [
    "run_dir = \"run2\"\n",
    "checkpoint_file = os.path.join(\"./checkpoints\", run_dir, \"best_model.pt\")\n",
    "log_dir = os.path.join(\"./runs\", run_dir)\n",
    "writer = SummaryWriter(log_dir=log_dir)\n",
    "\n",
    "img_root = \"./data/leftImg8bit\"\n",
    "mask_root = \"./data/gtFine\"\n",
    "train_transform = utils.transforms.Compose([\n",
    "    # utils.transforms.Resize((1024, 512)),\n",
    "    # utils.transforms.RandomCrop(512),\n",
    "    utils.transforms.RandomScaleCrop(\n",
    "        scale_min=0.75, scale_max=2.0, crop_size=512, inference_size=(1024, 512)\n",
    "    ),\n",
    "    utils.transforms.RandomHorizontalFlip(flip_prob=0.5),\n",
    "    utils.transforms.ToTensor()\n",
    "])\n",
    "val_transform = utils.transforms.Compose([\n",
    "    utils.transforms.Resize((1024, 512)),\n",
    "    utils.transforms.CenterCrop((512, 512)),\n",
    "    utils.transforms.ToTensor()\n",
    "])\n",
    "train_set = CityscapesDataset(\"train\", img_root, mask_root, transform=train_transform)\n",
    "val_set = CityscapesDataset(\"val\", img_root, mask_root, transform=val_transform)\n",
    "\n",
    "batch_size = 4\n",
    "train_loader = DataLoader(dataset=train_set, batch_size=batch_size, shuffle=True)\n",
    "val_loader = DataLoader(dataset=val_set, batch_size=batch_size, shuffle=False)"
   ]
  },
  {
   "cell_type": "code",
   "execution_count": 3,
   "metadata": {},
   "outputs": [],
   "source": [
    "device = torch.device(\"cuda\" if torch.cuda.is_available() else \"cpu\")\n",
    "num_classes = 20  # 0 -> 19\n",
    "ignore_idx = train_set.ignoreId  # ignore 19\n",
    "learning_rate = 0.001\n",
    "momentum = 0.9\n",
    "weight_decay = 0.0005\n",
    "model = DeepLabv3Plus(num_classes).to(device)\n",
    "criterion = nn.CrossEntropyLoss(ignore_index=ignore_idx)\n",
    "optimizer = torch.optim.SGD(\n",
    "    model.parameters(), lr=learning_rate, momentum=momentum, weight_decay=weight_decay\n",
    ")"
   ]
  },
  {
   "cell_type": "code",
   "execution_count": 4,
   "metadata": {},
   "outputs": [],
   "source": [
    "def save_checkpoint(epoch, model, optimizer, path):\n",
    "    torch.save(\n",
    "        {\n",
    "            \"epoch\": epoch,\n",
    "            \"model_state_dict\": model.state_dict(),\n",
    "            \"optimizer_state_dict\": optimizer.state_dict(),\n",
    "        },\n",
    "        path,\n",
    "    )\n",
    "\n",
    "\n",
    "def train_one_epoch(epoch, model, criterion, optimizer, data_loader, device):\n",
    "    model.train()\n",
    "\n",
    "    total_loss = 0\n",
    "    n_batches = len(data_loader)\n",
    "    for i, sample in enumerate(tqdm(data_loader)):\n",
    "        images = sample[\"image\"].to(device)\n",
    "        masks = sample[\"mask\"].to(device)\n",
    "\n",
    "        optimizer.zero_grad()\n",
    "        pred = model(images)\n",
    "        loss = criterion(pred, masks)\n",
    "        loss.backward()\n",
    "        optimizer.step()\n",
    "\n",
    "        total_loss += loss.item()\n",
    "        writer.add_scalar(\"train_iter_loss\", loss.item(), i + n_batches * epoch)\n",
    "\n",
    "    avg_loss = total_loss / n_batches\n",
    "    writer.add_scalar(\"train_epoch_avg_loss\", avg_loss, epoch)\n",
    "    return avg_loss\n",
    "\n",
    "\n",
    "def validate(epoch, model, criterion, data_loader, num_classes, device):\n",
    "    model.eval()\n",
    "\n",
    "    total_loss = 0\n",
    "    n_batches = len(data_loader)\n",
    "    metrics = SegmentationMetrics(num_classes=num_classes, ignore_idx=ignore_idx)\n",
    "    with torch.no_grad():\n",
    "        for i, sample in enumerate(tqdm(data_loader)):\n",
    "            images = sample[\"image\"].to(device)\n",
    "            masks = sample[\"mask\"].to(device)\n",
    "\n",
    "            pred = model(images)\n",
    "            loss = criterion(pred, masks)\n",
    "            total_loss += loss.item()\n",
    "\n",
    "            pred_cls = torch.argmax(pred, dim=1)\n",
    "            metrics.update(pred_cls, masks)\n",
    "\n",
    "    model.train()\n",
    "\n",
    "    avg_loss = total_loss / n_batches\n",
    "    ious, mIoU = metrics.iou()\n",
    "    writer.add_scalar(\"val_epoch_avg_loss\", avg_loss, epoch)\n",
    "    writer.add_scalar(\"val_epoch_mIoU\", mIoU, epoch)\n",
    "    return avg_loss, ious, mIoU"
   ]
  },
  {
   "cell_type": "code",
   "execution_count": 5,
   "metadata": {},
   "outputs": [],
   "source": [
    "# %load_ext tensorboard\n",
    "# %tensorboard --logdir=runs --host=0.0.0.0 --port=6006"
   ]
  },
  {
   "cell_type": "code",
   "execution_count": null,
   "metadata": {},
   "outputs": [
    {
     "name": "stderr",
     "output_type": "stream",
     "text": [
      " 45%|████▌     | 336/744 [03:51<04:39,  1.46it/s]"
     ]
    }
   ],
   "source": [
    "patience = 15\n",
    "best_loss = np.inf\n",
    "best_mIoU = 0\n",
    "best_epoch = 0\n",
    "for epoch in range(1000):\n",
    "    train_loss = train_one_epoch(\n",
    "        epoch, model, criterion, optimizer, train_loader, device\n",
    "    )\n",
    "    val_loss, ious, mIoU = validate(\n",
    "        epoch, model, criterion, val_loader, num_classes, device\n",
    "    )\n",
    "    print(f\"Epoch {epoch}: val_loss {val_loss:.4f} | mIoU {mIoU: .4f}\")\n",
    "    if mIoU < best_mIoU:\n",
    "        best_mIoU = mIoU\n",
    "        best_epoch = epoch\n",
    "        save_checkpoint(epoch, model, optimizer, checkpoint_file)\n",
    "    elif epoch - best_epoch >= patience:\n",
    "        print(f\"Early Stopping at epoch {epoch}\")\n",
    "        break"
   ]
  },
  {
   "cell_type": "code",
   "execution_count": null,
   "metadata": {},
   "outputs": [],
   "source": [
    "writer.close()"
   ]
  },
  {
   "cell_type": "code",
   "execution_count": null,
   "metadata": {},
   "outputs": [],
   "source": [
    "# !kill tensorboard_pid"
   ]
  }
 ],
 "metadata": {
  "kernelspec": {
   "display_name": "Python 3",
   "language": "python",
   "name": "python3"
  },
  "language_info": {
   "codemirror_mode": {
    "name": "ipython",
    "version": 3
   },
   "file_extension": ".py",
   "mimetype": "text/x-python",
   "name": "python",
   "nbconvert_exporter": "python",
   "pygments_lexer": "ipython3",
   "version": "3.8.6"
  }
 },
 "nbformat": 4,
 "nbformat_minor": 4
}
