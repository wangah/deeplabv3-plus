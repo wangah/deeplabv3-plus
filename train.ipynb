{
 "cells": [
  {
   "cell_type": "markdown",
   "metadata": {},
   "source": [
    "# Train\n",
    "\n",
    "TODO convert this to train.py"
   ]
  },
  {
   "cell_type": "code",
   "execution_count": null,
   "metadata": {},
   "outputs": [],
   "source": [
    "import os\n",
    "import math\n",
    "from tqdm import tqdm\n",
    "import torch\n",
    "import torch.nn as nn\n",
    "from torch.utils.tensorboard import SummaryWriter\n",
    "from data_loader.cityscapes import CityscapesDataLoader\n",
    "from model.deeplabv3plus import DeepLabv3Plus\n",
    "from torch_poly_lr_decay import PolynomialLRDecay\n",
    "from model.metric import SegmentationMetrics"
   ]
  },
  {
   "cell_type": "code",
   "execution_count": null,
   "metadata": {},
   "outputs": [],
   "source": [
    "def save_checkpoint(epoch, model, optimizer, path):\n",
    "    torch.save(\n",
    "        {\n",
    "            \"epoch\": epoch,\n",
    "            \"model_state_dict\": model.state_dict(),\n",
    "            \"optimizer_state_dict\": optimizer.state_dict(),\n",
    "        },\n",
    "        path,\n",
    "    )\n",
    "\n",
    "\n",
    "def train_one_epoch(epoch, model, criterion, optimizer, scheduler, data_loader, device):\n",
    "    model.train()\n",
    "\n",
    "    total_loss = 0\n",
    "    n_batches = len(data_loader)\n",
    "    for i, sample in enumerate(tqdm(data_loader)):\n",
    "        images = sample[\"image\"].to(device)\n",
    "        masks = sample[\"mask\"].to(device)\n",
    "\n",
    "        optimizer.zero_grad()\n",
    "        pred = model(images)\n",
    "        loss = criterion(pred, masks)\n",
    "        loss.backward()\n",
    "        optimizer.step()\n",
    "        scheduler.step()\n",
    "\n",
    "        total_loss += loss.item()\n",
    "        writer.add_scalar(\"train_iter_loss\", loss.item(), i + n_batches * epoch)\n",
    "\n",
    "    avg_loss = total_loss / n_batches\n",
    "    writer.add_scalar(\"train_epoch_avg_loss\", avg_loss, epoch)\n",
    "    return avg_loss\n",
    "\n",
    "\n",
    "def validate(epoch, model, criterion, data_loader, num_classes, device):\n",
    "    model.eval()\n",
    "\n",
    "    total_loss = 0\n",
    "    n_batches = len(data_loader)\n",
    "    metrics = SegmentationMetrics(num_classes=num_classes, ignore_idx=ignore_idx)\n",
    "    with torch.no_grad():\n",
    "        for i, sample in enumerate(tqdm(data_loader)):\n",
    "            images = sample[\"image\"].to(device)\n",
    "            masks = sample[\"mask\"].to(device)\n",
    "\n",
    "            pred = model(images)\n",
    "            loss = criterion(pred, masks)\n",
    "            total_loss += loss.item()\n",
    "\n",
    "            pred_cls = torch.argmax(pred, dim=1)\n",
    "            metrics.update(pred_cls, masks)\n",
    "\n",
    "    model.train()\n",
    "\n",
    "    avg_loss = total_loss / n_batches\n",
    "    ious, mIoU = metrics.iou()\n",
    "    writer.add_scalar(\"val_epoch_avg_loss\", avg_loss, epoch)\n",
    "    writer.add_scalar(\"val_epoch_mIoU\", mIoU, epoch)\n",
    "    return avg_loss, ious, mIoU"
   ]
  },
  {
   "cell_type": "markdown",
   "metadata": {},
   "source": [
    "## Checkpoints and Tensorboard"
   ]
  },
  {
   "cell_type": "code",
   "execution_count": null,
   "metadata": {},
   "outputs": [],
   "source": [
    "run_dir = \"run3\"\n",
    "checkpoint_file = os.path.join(\"./experiments\", \"checkpoints\", run_dir, \"best_model.pt\")\n",
    "log_dir = os.path.join(\"./experiments\", \"runs\", run_dir)\n",
    "writer = SummaryWriter(log_dir=log_dir)\n",
    "\n",
    "print(f\"Saving model checkpoints to {checkpoint_file}\")\n",
    "print(f\"Writing tensorboard logs to {log_dir}\")"
   ]
  },
  {
   "cell_type": "markdown",
   "metadata": {},
   "source": [
    "## Get DataLoader"
   ]
  },
  {
   "cell_type": "code",
   "execution_count": null,
   "metadata": {},
   "outputs": [],
   "source": [
    "img_root = \"./data/leftImg8bit\"\n",
    "mask_root = \"./data/gtFine\"\n",
    "batch_size = 4\n",
    "\n",
    "cityscapes = CityscapesDataLoader(img_root, mask_root, batch_size)"
   ]
  },
  {
   "cell_type": "markdown",
   "metadata": {},
   "source": [
    "## Initialize Model, Loss, and Optimizer"
   ]
  },
  {
   "cell_type": "code",
   "execution_count": null,
   "metadata": {},
   "outputs": [],
   "source": [
    "device = torch.device(\"cuda\" if torch.cuda.is_available() else \"cpu\")\n",
    "num_classes = cityscapes.train_set.num_classes\n",
    "ignore_idx = cityscapes.train_set.ignoreId\n",
    "initial_lr = 0.007\n",
    "end_lr = 0.001\n",
    "momentum = 0.9\n",
    "weight_decay = 0.0005\n",
    "train_iterations = 90000\n",
    "total_epochs = math.ceil(train_iterations / len(cityscapes.train_loader))\n",
    "\n",
    "model = DeepLabv3Plus(num_classes).to(device)\n",
    "criterion = nn.CrossEntropyLoss(ignore_index=ignore_idx)\n",
    "optimizer = torch.optim.SGD(\n",
    "    model.parameters(), lr=initial_lr, momentum=momentum, weight_decay=weight_decay\n",
    ")\n",
    "scheduler = PolynomialLRDecay(\n",
    "    optimizer, max_decay_steps=train_iterations, end_learning_rate=end_lr, power=0.9\n",
    ")"
   ]
  },
  {
   "cell_type": "code",
   "execution_count": null,
   "metadata": {},
   "outputs": [],
   "source": [
    "# patience = 15\n",
    "best_mIoU = 0\n",
    "best_epoch = 0\n",
    "for epoch in range(total_epochs):\n",
    "    train_loss = train_one_epoch(\n",
    "        epoch, model, criterion, optimizer, scheduler, cityscapes.train_loader, device\n",
    "    )\n",
    "    val_loss, ious, mIoU = validate(\n",
    "        epoch, model, criterion, cityscapes.val_loader, num_classes, device\n",
    "    )\n",
    "    print(f\"Epoch {epoch}: val_loss {val_loss:.4f} | mIoU {mIoU: .4f}\")\n",
    "\n",
    "    if mIoU > best_mIoU:\n",
    "        best_mIoU = mIoU\n",
    "        best_epoch = epoch\n",
    "        save_checkpoint(epoch, model, optimizer, checkpoint_file)\n",
    "    # elif epoch - best_epoch >= patience:\n",
    "    #     print(f\"Early Stopping at epoch {epoch}\")\n",
    "    #     break"
   ]
  },
  {
   "cell_type": "code",
   "execution_count": null,
   "metadata": {},
   "outputs": [],
   "source": [
    "writer.close()"
   ]
  }
 ],
 "metadata": {
  "kernelspec": {
   "display_name": "Python 3",
   "language": "python",
   "name": "python3"
  },
  "language_info": {
   "codemirror_mode": {
    "name": "ipython",
    "version": 3
   },
   "file_extension": ".py",
   "mimetype": "text/x-python",
   "name": "python",
   "nbconvert_exporter": "python",
   "pygments_lexer": "ipython3",
   "version": "3.8.6"
  }
 },
 "nbformat": 4,
 "nbformat_minor": 4
}
