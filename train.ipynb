{
 "cells": [
  {
   "cell_type": "code",
   "execution_count": 1,
   "metadata": {},
   "outputs": [],
   "source": [
    "import os\n",
    "import argparse\n",
    "from tqdm import tqdm\n",
    "import numpy as np\n",
    "\n",
    "import torch\n",
    "import torch.nn as nn\n",
    "from torch.utils.data import DataLoader\n",
    "from torch.utils.tensorboard import SummaryWriter\n",
    "\n",
    "from data_loader.cityscapes import CityscapesDataset\n",
    "import utils.transforms\n",
    "from model.deeplabv3plus import DeepLabv3Plus"
   ]
  },
  {
   "cell_type": "code",
   "execution_count": 2,
   "metadata": {},
   "outputs": [],
   "source": [
    "writer = SummaryWriter()\n",
    "checkpoint_file = os.path.join('./checkpoints', 'best_model.pt')\n",
    "img_root = './data/leftImg8bit'\n",
    "mask_root = './data/gtFine'\n",
    "transform = utils.transforms.Compose(\n",
    "    [utils.transforms.Resize((224, 224)), utils.transforms.ToTensor()]\n",
    ")\n",
    "\n",
    "train_set = CityscapesDataset(\"train\", img_root, mask_root, transform=transform)\n",
    "val_set = CityscapesDataset(\"val\", img_root, mask_root, transform=transform)\n",
    "\n",
    "batch_size = 8\n",
    "train_loader = DataLoader(dataset=train_set, batch_size=batch_size, shuffle=True)\n",
    "val_loader = DataLoader(dataset=val_set, batch_size=batch_size, shuffle=False)"
   ]
  },
  {
   "cell_type": "code",
   "execution_count": 3,
   "metadata": {},
   "outputs": [],
   "source": [
    "device = torch.device(\"cuda\" if torch.cuda.is_available() else \"cpu\")\n",
    "num_classes = 19\n",
    "ignore_idx = train_set.ignoreId\n",
    "learning_rate = 0.001\n",
    "model = DeepLabv3Plus(num_classes).to(device)\n",
    "criterion = nn.CrossEntropyLoss(ignore_index=ignore_idx)\n",
    "optimizer = torch.optim.Adam(model.parameters(), lr=learning_rate)"
   ]
  },
  {
   "cell_type": "code",
   "execution_count": 4,
   "metadata": {},
   "outputs": [],
   "source": [
    "def save_checkpoint(epoch, model, optimizer, path):\n",
    "    torch.save(\n",
    "        {\n",
    "            \"epoch\": epoch,\n",
    "            \"model_state_dict\": model.state_dict(),\n",
    "            \"optimizer_state_dict\": optimizer.state_dict()\n",
    "        },\n",
    "        path\n",
    "    )\n",
    "\n",
    "\n",
    "def train_one_epoch(epoch, model, criterion, optimizer, data_loader, device):\n",
    "    model.train()\n",
    "\n",
    "    total_loss = 0\n",
    "    n_batches = len(data_loader)\n",
    "    for i, sample in enumerate(tqdm(data_loader)):\n",
    "        images = sample[\"image\"].to(device)\n",
    "        masks = sample[\"mask\"].to(device)\n",
    "\n",
    "        optimizer.zero_grad()\n",
    "        pred = model(images)\n",
    "        loss = criterion(pred, masks)\n",
    "        loss.backward()\n",
    "        optimizer.step()\n",
    "\n",
    "        total_loss += loss.item()\n",
    "        writer.add_scalar('train_iter_loss', loss.item(), i + n_batches * epoch)\n",
    "\n",
    "    writer.add_scalar('train_epoch_loss', total_loss, epoch)\n",
    "    return total_loss\n",
    "\n",
    "\n",
    "def evaluate(epoch, model, criterion, data_loader, num_classes, device):\n",
    "    model.eval()\n",
    "\n",
    "    total_loss = 0\n",
    "    with torch.no_grad():\n",
    "        for i, sample in enumerate(tqdm(data_loader)):\n",
    "            images = sample[\"image\"].to(device)\n",
    "            masks = sample[\"mask\"].to(device)\n",
    "\n",
    "            pred = model(images)\n",
    "            pred = torch.argmax(pred, dim=1)\n",
    "            loss = criterion(pred, masks)\n",
    "\n",
    "            total_loss += loss.item()\n",
    "\n",
    "    model.train()\n",
    "    writer.add_scalar('val_epoch_loss', total_loss, epoch)\n",
    "    return total_loss"
   ]
  },
  {
   "cell_type": "code",
   "execution_count": 5,
   "metadata": {},
   "outputs": [
    {
     "data": {
      "text/plain": [
       "Reusing TensorBoard on port 6006 (pid 27147), started 0:01:31 ago. (Use '!kill 27147' to kill it.)"
      ]
     },
     "metadata": {},
     "output_type": "display_data"
    },
    {
     "data": {
      "text/html": [
       "\n",
       "      <iframe id=\"tensorboard-frame-3ab0a0ffbac484e3\" width=\"100%\" height=\"800\" frameborder=\"0\">\n",
       "      </iframe>\n",
       "      <script>\n",
       "        (function() {\n",
       "          const frame = document.getElementById(\"tensorboard-frame-3ab0a0ffbac484e3\");\n",
       "          const url = new URL(\"/\", window.location);\n",
       "          const port = 6006;\n",
       "          if (port) {\n",
       "            url.port = port;\n",
       "          }\n",
       "          frame.src = url;\n",
       "        })();\n",
       "      </script>\n",
       "    "
      ],
      "text/plain": [
       "<IPython.core.display.HTML object>"
      ]
     },
     "metadata": {},
     "output_type": "display_data"
    }
   ],
   "source": [
    "%load_ext tensorboard\n",
    "%tensorboard --logdir=runs"
   ]
  },
  {
   "cell_type": "code",
   "execution_count": null,
   "metadata": {},
   "outputs": [
    {
     "name": "stderr",
     "output_type": "stream",
     "text": [
      " 44%|████▍     | 164/372 [01:52<02:23,  1.44it/s]"
     ]
    }
   ],
   "source": [
    "best_loss = np.inf\n",
    "best_epoch = 0\n",
    "for epoch in range(100):\n",
    "    train_loss = train_one_epoch(\n",
    "        epoch, model, criterion, optimizer, train_loader, device\n",
    "    )\n",
    "    val_loss = evaluate(\n",
    "        epoch, model, criterion, val_loader, num_classes, device\n",
    "    )\n",
    "    if val_loss < best_loss:\n",
    "        best_loss = val_loss\n",
    "        best_epoch = epoch\n",
    "        save_checkpoint(epoch, model, optimizer, checkpoint_file)\n",
    "    elif epoch - best_epoch >= 5:\n",
    "        print(f\"Early Stopping at epoch {epoch}\")\n",
    "        break"
   ]
  },
  {
   "cell_type": "code",
   "execution_count": null,
   "metadata": {},
   "outputs": [],
   "source": [
    "writer.close()"
   ]
  }
 ],
 "metadata": {
  "kernelspec": {
   "display_name": "Python 3",
   "language": "python",
   "name": "python3"
  },
  "language_info": {
   "codemirror_mode": {
    "name": "ipython",
    "version": 3
   },
   "file_extension": ".py",
   "mimetype": "text/x-python",
   "name": "python",
   "nbconvert_exporter": "python",
   "pygments_lexer": "ipython3",
   "version": "3.8.6"
  }
 },
 "nbformat": 4,
 "nbformat_minor": 4
}
