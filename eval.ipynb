{
 "cells": [
  {
   "cell_type": "code",
   "execution_count": 1,
   "metadata": {},
   "outputs": [],
   "source": [
    "import os\n",
    "import argparse\n",
    "from tqdm import tqdm\n",
    "import numpy as np\n",
    "\n",
    "import torch\n",
    "import torch.nn as nn\n",
    "from torch.utils.data import DataLoader\n",
    "from torch.utils.tensorboard import SummaryWriter\n",
    "\n",
    "from data_loader.cityscapes import CityscapesDataset\n",
    "import utils.transforms\n",
    "from model.deeplabv3plus import DeepLabv3Plus\n",
    "\n",
    "from model.metric import iou, SegmentationMetrics"
   ]
  },
  {
   "cell_type": "code",
   "execution_count": 2,
   "metadata": {},
   "outputs": [],
   "source": [
    "writer = SummaryWriter()\n",
    "run = 'run1'\n",
    "checkpoint_file = os.path.join('./checkpoints', run, 'best_model.pt')\n",
    "img_root = './data/leftImg8bit'\n",
    "mask_root = './data/gtFine'\n",
    "transform = utils.transforms.Compose(\n",
    "    [utils.transforms.Resize((512, 512)), utils.transforms.ToTensor()]\n",
    ")\n",
    "\n",
    "train_set = CityscapesDataset(\"train\", img_root, mask_root, transform=transform)\n",
    "val_set = CityscapesDataset(\"val\", img_root, mask_root, transform=transform)\n",
    "\n",
    "batch_size = 4\n",
    "train_loader = DataLoader(dataset=train_set, batch_size=batch_size, shuffle=True)\n",
    "val_loader = DataLoader(dataset=val_set, batch_size=batch_size, shuffle=False)"
   ]
  },
  {
   "cell_type": "code",
   "execution_count": 3,
   "metadata": {},
   "outputs": [],
   "source": [
    "device = torch.device(\"cuda\" if torch.cuda.is_available() else \"cpu\")\n",
    "num_classes = 20  # 0 -> 19\n",
    "ignore_idx = train_set.ignoreId  # ignore 19\n",
    "learning_rate = 0.001\n",
    "model = DeepLabv3Plus(num_classes).to(device)\n",
    "criterion = nn.CrossEntropyLoss(ignore_index=ignore_idx)\n",
    "optimizer = torch.optim.Adam(model.parameters(), lr=learning_rate)"
   ]
  },
  {
   "cell_type": "code",
   "execution_count": 4,
   "metadata": {},
   "outputs": [],
   "source": [
    "checkpoint = torch.load(checkpoint_file)\n",
    "model.load_state_dict(checkpoint['model_state_dict'])\n",
    "optimizer.load_state_dict(checkpoint['optimizer_state_dict'])"
   ]
  },
  {
   "cell_type": "code",
   "execution_count": 5,
   "metadata": {},
   "outputs": [],
   "source": [
    "def evaluate_performance(epoch, model, criterion, data_loader, num_classes, device):\n",
    "    model.eval()\n",
    "\n",
    "    metrics = SegmentationMetrics(num_classes=num_classes, ignore_idx=ignore_idx)\n",
    "    total_loss = 0\n",
    "    # n_batches = len(data_loader)\n",
    "    # n_samples = len(data_loader.dataset)\n",
    "    # preds = torch.zeros((n_samples, 512, 512))\n",
    "    # gts = torch.zeros((n_samples, 512, 512))\n",
    "\n",
    "    with torch.no_grad():\n",
    "        for i, sample in enumerate(tqdm(data_loader)):\n",
    "            images = sample[\"image\"].to(device)\n",
    "            masks = sample[\"mask\"].to(device)\n",
    "\n",
    "            pred = model(images)\n",
    "            loss = criterion(pred, masks)\n",
    "            total_loss += loss.item()\n",
    "\n",
    "            pred_cls = torch.argmax(pred, dim=1)\n",
    "            metrics.update(pred_cls, masks)\n",
    "\n",
    "    ious, mIoU = metrics.iou()\n",
    "    return ious, mIoU"
   ]
  },
  {
   "cell_type": "code",
   "execution_count": 6,
   "metadata": {},
   "outputs": [
    {
     "name": "stderr",
     "output_type": "stream",
     "text": [
      "100%|██████████| 125/125 [01:40<00:00,  1.24it/s]"
     ]
    },
    {
     "name": "stdout",
     "output_type": "stream",
     "text": [
      "[0.76731085 0.5687753  0.74858997 0.1736465  0.13302853 0.24040474\n",
      " 0.1629812  0.36271731 0.82386181 0.41362495 0.81984696 0.40960035\n",
      " 0.02410235 0.78240072 0.18086475 0.41780845 0.19681325 0.04706755\n",
      " 0.34496439 0.        ]\n",
      "0.40096894348639733\n"
     ]
    },
    {
     "name": "stderr",
     "output_type": "stream",
     "text": [
      "\n"
     ]
    }
   ],
   "source": [
    "ious, mIoU = evaluate_performance(32, model, criterion, val_loader, 20, device)\n",
    "print(ious)\n",
    "print(mIoU)"
   ]
  },
  {
   "cell_type": "code",
   "execution_count": 7,
   "metadata": {},
   "outputs": [
    {
     "data": {
      "text/plain": [
       "array([0.76731085, 0.5687753 , 0.74858997, 0.1736465 , 0.13302853,\n",
       "       0.24040474, 0.1629812 , 0.36271731, 0.82386181, 0.41362495,\n",
       "       0.81984696, 0.40960035, 0.02410235, 0.78240072, 0.18086475,\n",
       "       0.41780845, 0.19681325, 0.04706755, 0.34496439, 0.        ])"
      ]
     },
     "execution_count": 7,
     "metadata": {},
     "output_type": "execute_result"
    }
   ],
   "source": [
    "ious"
   ]
  },
  {
   "cell_type": "code",
   "execution_count": null,
   "metadata": {},
   "outputs": [],
   "source": []
  }
 ],
 "metadata": {
  "kernelspec": {
   "display_name": "Python 3",
   "language": "python",
   "name": "python3"
  },
  "language_info": {
   "codemirror_mode": {
    "name": "ipython",
    "version": 3
   },
   "file_extension": ".py",
   "mimetype": "text/x-python",
   "name": "python",
   "nbconvert_exporter": "python",
   "pygments_lexer": "ipython3",
   "version": "3.8.6"
  }
 },
 "nbformat": 4,
 "nbformat_minor": 4
}
