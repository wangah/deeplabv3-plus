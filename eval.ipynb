{
 "cells": [
  {
   "cell_type": "code",
   "execution_count": 1,
   "metadata": {},
   "outputs": [],
   "source": [
    "import os\n",
    "import argparse\n",
    "from tqdm import tqdm\n",
    "import numpy as np\n",
    "\n",
    "import torch\n",
    "import torch.nn as nn\n",
    "from torch.utils.data import DataLoader\n",
    "from torch.utils.tensorboard import SummaryWriter\n",
    "\n",
    "from data_loader.cityscapes import CityscapesDataset\n",
    "import utils.transforms\n",
    "from model.deeplabv3plus import DeepLabv3Plus\n",
    "\n",
    "from model.metric import iou"
   ]
  },
  {
   "cell_type": "code",
   "execution_count": 2,
   "metadata": {},
   "outputs": [],
   "source": [
    "writer = SummaryWriter()\n",
    "checkpoint_file = os.path.join('./checkpoints', 'best_model.pt')\n",
    "img_root = './data/leftImg8bit'\n",
    "mask_root = './data/gtFine'\n",
    "transform = utils.transforms.Compose(\n",
    "    [utils.transforms.Resize((512, 512)), utils.transforms.ToTensor()]\n",
    ")\n",
    "\n",
    "train_set = CityscapesDataset(\"train\", img_root, mask_root, transform=transform)\n",
    "val_set = CityscapesDataset(\"val\", img_root, mask_root, transform=transform)\n",
    "\n",
    "batch_size = 4\n",
    "train_loader = DataLoader(dataset=train_set, batch_size=batch_size, shuffle=True)\n",
    "val_loader = DataLoader(dataset=val_set, batch_size=batch_size, shuffle=False)"
   ]
  },
  {
   "cell_type": "code",
   "execution_count": 3,
   "metadata": {},
   "outputs": [],
   "source": [
    "device = torch.device(\"cuda\" if torch.cuda.is_available() else \"cpu\")\n",
    "num_classes = 20  # 0 -> 19\n",
    "ignore_idx = train_set.ignoreId  # ignore 19\n",
    "learning_rate = 0.001\n",
    "model = DeepLabv3Plus(num_classes).to(device)\n",
    "criterion = nn.CrossEntropyLoss(ignore_index=ignore_idx)\n",
    "optimizer = torch.optim.Adam(model.parameters(), lr=learning_rate)"
   ]
  },
  {
   "cell_type": "code",
   "execution_count": 4,
   "metadata": {},
   "outputs": [],
   "source": [
    "checkpoint = torch.load(checkpoint_file)\n",
    "model.load_state_dict(checkpoint['model_state_dict'])\n",
    "optimizer.load_state_dict(checkpoint['optimizer_state_dict'])"
   ]
  },
  {
   "cell_type": "code",
   "execution_count": 5,
   "metadata": {},
   "outputs": [],
   "source": [
    "def evaluate_performance(epoch, model, criterion, data_loader, num_classes, device):\n",
    "    model.eval()\n",
    "\n",
    "    total_loss = 0\n",
    "    n_batches = len(data_loader)\n",
    "    n_samples = len(data_loader.dataset)\n",
    "    preds = torch.zeros((n_samples, 512, 512))\n",
    "    gts = torch.zeros((n_samples, 512, 512))\n",
    "\n",
    "    with torch.no_grad():\n",
    "        for i, sample in enumerate(tqdm(data_loader)):\n",
    "            images = sample[\"image\"].to(device)\n",
    "            masks = sample[\"mask\"].to(device)\n",
    "            b_size = len(masks)\n",
    "\n",
    "            pred = model(images)\n",
    "            loss = criterion(pred, masks)\n",
    "            total_loss += loss.item()\n",
    "\n",
    "            gts[i : i + b_size, :, :] = masks.cpu().detach()\n",
    "            pred = torch.argmax(pred, dim=1).cpu().detach()\n",
    "            preds[i : i + b_size, :, :] = pred\n",
    "\n",
    "    ious, mIoU = iou(preds, gts)\n",
    "    return ious, mIoU"
   ]
  },
  {
   "cell_type": "code",
   "execution_count": 6,
   "metadata": {},
   "outputs": [
    {
     "name": "stderr",
     "output_type": "stream",
     "text": [
      "100%|██████████| 125/125 [00:47<00:00,  2.61it/s]\n"
     ]
    },
    {
     "name": "stdout",
     "output_type": "stream",
     "text": [
      "torch.Size([131072000])\n",
      "torch.Size([131072000])\n",
      "[0.97133951 0.5742225  0.73734696 0.1426262  0.12089531 0.21887813\n",
      " 0.14401666 0.37732962 0.82021093 0.43701157 0.79479526 0.38161614\n",
      " 0.03652031 0.75085983 0.19854661 0.39220037 0.46746474 0.00454752\n",
      " 0.31206627]\n",
      "0.41486812731557604\n"
     ]
    }
   ],
   "source": [
    "ious, mIoU = evaluate_performance(32, model, criterion, val_loader, 20, device)\n",
    "print(ious)\n",
    "print(mIoU)"
   ]
  }
 ],
 "metadata": {
  "kernelspec": {
   "display_name": "Python 3",
   "language": "python",
   "name": "python3"
  },
  "language_info": {
   "codemirror_mode": {
    "name": "ipython",
    "version": 3
   },
   "file_extension": ".py",
   "mimetype": "text/x-python",
   "name": "python",
   "nbconvert_exporter": "python",
   "pygments_lexer": "ipython3",
   "version": "3.8.6"
  }
 },
 "nbformat": 4,
 "nbformat_minor": 4
}
